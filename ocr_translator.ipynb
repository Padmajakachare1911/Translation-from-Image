{
 "cells": [
  {
   "cell_type": "code",
   "execution_count": 1,
   "id": "18cdf85c",
   "metadata": {
    "scrolled": true
   },
   "outputs": [
    {
     "name": "stdout",
     "output_type": "stream",
     "text": [
      "Requirement already satisfied: pytesseract in c:\\users\\kacha\\anaconda3\\lib\\site-packages (from -r requirements.txt (line 1)) (0.3.13)\n",
      "Requirement already satisfied: opencv-python in c:\\users\\kacha\\anaconda3\\lib\\site-packages (from -r requirements.txt (line 2)) (4.11.0.86)\n",
      "Requirement already satisfied: Pillow in c:\\users\\kacha\\anaconda3\\lib\\site-packages (from -r requirements.txt (line 3)) (9.4.0)\n",
      "Requirement already satisfied: googletrans==4.0.0-rc1 in c:\\users\\kacha\\anaconda3\\lib\\site-packages (from -r requirements.txt (line 4)) (4.0.0rc1)\n",
      "Requirement already satisfied: httpx==0.13.3 in c:\\users\\kacha\\anaconda3\\lib\\site-packages (from googletrans==4.0.0-rc1->-r requirements.txt (line 4)) (0.13.3)\n",
      "Requirement already satisfied: certifi in c:\\users\\kacha\\anaconda3\\lib\\site-packages (from httpx==0.13.3->googletrans==4.0.0-rc1->-r requirements.txt (line 4)) (2023.7.22)\n",
      "Requirement already satisfied: hstspreload in c:\\users\\kacha\\anaconda3\\lib\\site-packages (from httpx==0.13.3->googletrans==4.0.0-rc1->-r requirements.txt (line 4)) (2025.1.1)\n",
      "Requirement already satisfied: sniffio in c:\\users\\kacha\\anaconda3\\lib\\site-packages (from httpx==0.13.3->googletrans==4.0.0-rc1->-r requirements.txt (line 4)) (1.2.0)\n",
      "Requirement already satisfied: chardet==3.* in c:\\users\\kacha\\anaconda3\\lib\\site-packages (from httpx==0.13.3->googletrans==4.0.0-rc1->-r requirements.txt (line 4)) (3.0.4)\n",
      "Requirement already satisfied: idna==2.* in c:\\users\\kacha\\anaconda3\\lib\\site-packages (from httpx==0.13.3->googletrans==4.0.0-rc1->-r requirements.txt (line 4)) (2.10)\n",
      "Requirement already satisfied: rfc3986<2,>=1.3 in c:\\users\\kacha\\anaconda3\\lib\\site-packages (from httpx==0.13.3->googletrans==4.0.0-rc1->-r requirements.txt (line 4)) (1.5.0)\n",
      "Requirement already satisfied: httpcore==0.9.* in c:\\users\\kacha\\anaconda3\\lib\\site-packages (from httpx==0.13.3->googletrans==4.0.0-rc1->-r requirements.txt (line 4)) (0.9.1)\n",
      "Requirement already satisfied: h11<0.10,>=0.8 in c:\\users\\kacha\\anaconda3\\lib\\site-packages (from httpcore==0.9.*->httpx==0.13.3->googletrans==4.0.0-rc1->-r requirements.txt (line 4)) (0.9.0)\n",
      "Requirement already satisfied: h2==3.* in c:\\users\\kacha\\anaconda3\\lib\\site-packages (from httpcore==0.9.*->httpx==0.13.3->googletrans==4.0.0-rc1->-r requirements.txt (line 4)) (3.2.0)\n",
      "Requirement already satisfied: hyperframe<6,>=5.2.0 in c:\\users\\kacha\\anaconda3\\lib\\site-packages (from h2==3.*->httpcore==0.9.*->httpx==0.13.3->googletrans==4.0.0-rc1->-r requirements.txt (line 4)) (5.2.0)\n",
      "Requirement already satisfied: hpack<4,>=3.0 in c:\\users\\kacha\\anaconda3\\lib\\site-packages (from h2==3.*->httpcore==0.9.*->httpx==0.13.3->googletrans==4.0.0-rc1->-r requirements.txt (line 4)) (3.0.0)\n",
      "Requirement already satisfied: packaging>=21.3 in c:\\users\\kacha\\anaconda3\\lib\\site-packages (from pytesseract->-r requirements.txt (line 1)) (23.0)\n",
      "Requirement already satisfied: numpy>=1.21.2 in c:\\users\\kacha\\anaconda3\\lib\\site-packages (from opencv-python->-r requirements.txt (line 2)) (1.26.4)\n"
     ]
    }
   ],
   "source": [
    "!pip install -r requirements.txt"
   ]
  },
  {
   "cell_type": "code",
   "execution_count": 7,
   "id": "b5de7290",
   "metadata": {},
   "outputs": [],
   "source": [
    "import cv2\n",
    "import pytesseract\n",
    "from PIL import Image\n",
    "from googletrans import Translator\n",
    "from difflib import SequenceMatcher\n",
    "import string\n",
    "\n",
    "# -------- TEXT EXTRACTION -------- #\n",
    "def extract_text_from_image(image_path):\n",
    "    image = cv2.imread(image_path)\n",
    "    if image is None:\n",
    "        print(f\"Error: Could not read image {image_path}\")\n",
    "        return \"\"\n",
    "\n",
    "    gray = cv2.cvtColor(image, cv2.COLOR_BGR2GRAY)\n",
    "    processed = cv2.threshold(gray, 150, 255, cv2.THRESH_BINARY + cv2.THRESH_OTSU)[1]\n",
    "    text = pytesseract.image_to_string(processed, lang='eng')\n",
    "    return text\n",
    "\n",
    "# -------- TRANSLATION -------- #\n",
    "def translate_english_text(text, dest_lang='hi'):\n",
    "    translator = Translator()\n",
    "    try:\n",
    "        translated = translator.translate(text, dest=dest_lang)\n",
    "        return translated.text\n",
    "    except Exception as e:\n",
    "        return f\"Translation error: {e}\"\n",
    "\n",
    "# -------- CLEAN TEXT FOR ACCURACY -------- #\n",
    "def clean_text(text):\n",
    "    return text.strip().lower().translate(str.maketrans('', '', string.punctuation))\n",
    "\n",
    "# -------- ACCURACY MEASUREMENT -------- #\n",
    "def calculate_ocr_accuracy(gt_text, predicted_text):\n",
    "    gt = clean_text(gt_text)\n",
    "    pred = clean_text(predicted_text)\n",
    "    if not gt or not pred:\n",
    "        return 0.0\n",
    "    return SequenceMatcher(None, gt, pred).ratio() * 100\n"
   ]
  },
  {
   "cell_type": "code",
   "execution_count": null,
   "id": "2e2567eb",
   "metadata": {},
   "outputs": [],
   "source": []
  }
 ],
 "metadata": {
  "kernelspec": {
   "display_name": "Python 3 (ipykernel)",
   "language": "python",
   "name": "python3"
  },
  "language_info": {
   "codemirror_mode": {
    "name": "ipython",
    "version": 3
   },
   "file_extension": ".py",
   "mimetype": "text/x-python",
   "name": "python",
   "nbconvert_exporter": "python",
   "pygments_lexer": "ipython3",
   "version": "3.11.4"
  }
 },
 "nbformat": 4,
 "nbformat_minor": 5
}
