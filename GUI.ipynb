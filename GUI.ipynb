{
 "cells": [
  {
   "cell_type": "code",
   "execution_count": 1,
   "id": "0885c731",
   "metadata": {},
   "outputs": [
    {
     "name": "stdout",
     "output_type": "stream",
     "text": [
      "Requirement already satisfied: pytesseract in c:\\users\\kacha\\anaconda3\\lib\\site-packages (0.3.13)\n",
      "Requirement already satisfied: opencv-python in c:\\users\\kacha\\anaconda3\\lib\\site-packages (4.11.0.86)\n",
      "Requirement already satisfied: pillow in c:\\users\\kacha\\anaconda3\\lib\\site-packages (9.4.0)\n",
      "Requirement already satisfied: googletrans==4.0.0-rc1 in c:\\users\\kacha\\anaconda3\\lib\\site-packages (4.0.0rc1)\n",
      "Requirement already satisfied: httpx==0.13.3 in c:\\users\\kacha\\anaconda3\\lib\\site-packages (from googletrans==4.0.0-rc1) (0.13.3)\n",
      "Requirement already satisfied: certifi in c:\\users\\kacha\\anaconda3\\lib\\site-packages (from httpx==0.13.3->googletrans==4.0.0-rc1) (2023.7.22)\n",
      "Requirement already satisfied: hstspreload in c:\\users\\kacha\\anaconda3\\lib\\site-packages (from httpx==0.13.3->googletrans==4.0.0-rc1) (2025.1.1)\n",
      "Requirement already satisfied: sniffio in c:\\users\\kacha\\anaconda3\\lib\\site-packages (from httpx==0.13.3->googletrans==4.0.0-rc1) (1.2.0)\n",
      "Requirement already satisfied: chardet==3.* in c:\\users\\kacha\\anaconda3\\lib\\site-packages (from httpx==0.13.3->googletrans==4.0.0-rc1) (3.0.4)\n",
      "Requirement already satisfied: idna==2.* in c:\\users\\kacha\\anaconda3\\lib\\site-packages (from httpx==0.13.3->googletrans==4.0.0-rc1) (2.10)\n",
      "Requirement already satisfied: rfc3986<2,>=1.3 in c:\\users\\kacha\\anaconda3\\lib\\site-packages (from httpx==0.13.3->googletrans==4.0.0-rc1) (1.5.0)\n",
      "Requirement already satisfied: httpcore==0.9.* in c:\\users\\kacha\\anaconda3\\lib\\site-packages (from httpx==0.13.3->googletrans==4.0.0-rc1) (0.9.1)\n",
      "Requirement already satisfied: h11<0.10,>=0.8 in c:\\users\\kacha\\anaconda3\\lib\\site-packages (from httpcore==0.9.*->httpx==0.13.3->googletrans==4.0.0-rc1) (0.9.0)\n",
      "Requirement already satisfied: h2==3.* in c:\\users\\kacha\\anaconda3\\lib\\site-packages (from httpcore==0.9.*->httpx==0.13.3->googletrans==4.0.0-rc1) (3.2.0)\n",
      "Requirement already satisfied: hyperframe<6,>=5.2.0 in c:\\users\\kacha\\anaconda3\\lib\\site-packages (from h2==3.*->httpcore==0.9.*->httpx==0.13.3->googletrans==4.0.0-rc1) (5.2.0)\n",
      "Requirement already satisfied: hpack<4,>=3.0 in c:\\users\\kacha\\anaconda3\\lib\\site-packages (from h2==3.*->httpcore==0.9.*->httpx==0.13.3->googletrans==4.0.0-rc1) (3.0.0)\n",
      "Requirement already satisfied: packaging>=21.3 in c:\\users\\kacha\\anaconda3\\lib\\site-packages (from pytesseract) (23.0)\n",
      "Requirement already satisfied: numpy>=1.21.2 in c:\\users\\kacha\\anaconda3\\lib\\site-packages (from opencv-python) (1.26.4)\n"
     ]
    }
   ],
   "source": [
    "!pip install pytesseract opencv-python pillow googletrans==4.0.0-rc1"
   ]
  },
  {
   "cell_type": "code",
   "execution_count": 3,
   "id": "b71a1714",
   "metadata": {},
   "outputs": [
    {
     "name": "stdout",
     "output_type": "stream",
     "text": [
      "Requirement already satisfied: pytesseract in c:\\users\\kacha\\anaconda3\\lib\\site-packages (from -r requirements.txt (line 1)) (0.3.13)\n",
      "Requirement already satisfied: opencv-python in c:\\users\\kacha\\anaconda3\\lib\\site-packages (from -r requirements.txt (line 2)) (4.11.0.86)\n",
      "Requirement already satisfied: Pillow in c:\\users\\kacha\\anaconda3\\lib\\site-packages (from -r requirements.txt (line 3)) (9.4.0)\n",
      "Requirement already satisfied: googletrans==4.0.0-rc1 in c:\\users\\kacha\\anaconda3\\lib\\site-packages (from -r requirements.txt (line 4)) (4.0.0rc1)\n",
      "Requirement already satisfied: httpx==0.13.3 in c:\\users\\kacha\\anaconda3\\lib\\site-packages (from googletrans==4.0.0-rc1->-r requirements.txt (line 4)) (0.13.3)\n",
      "Requirement already satisfied: certifi in c:\\users\\kacha\\anaconda3\\lib\\site-packages (from httpx==0.13.3->googletrans==4.0.0-rc1->-r requirements.txt (line 4)) (2023.7.22)\n",
      "Requirement already satisfied: hstspreload in c:\\users\\kacha\\anaconda3\\lib\\site-packages (from httpx==0.13.3->googletrans==4.0.0-rc1->-r requirements.txt (line 4)) (2025.1.1)\n",
      "Requirement already satisfied: sniffio in c:\\users\\kacha\\anaconda3\\lib\\site-packages (from httpx==0.13.3->googletrans==4.0.0-rc1->-r requirements.txt (line 4)) (1.2.0)\n",
      "Requirement already satisfied: chardet==3.* in c:\\users\\kacha\\anaconda3\\lib\\site-packages (from httpx==0.13.3->googletrans==4.0.0-rc1->-r requirements.txt (line 4)) (3.0.4)\n",
      "Requirement already satisfied: idna==2.* in c:\\users\\kacha\\anaconda3\\lib\\site-packages (from httpx==0.13.3->googletrans==4.0.0-rc1->-r requirements.txt (line 4)) (2.10)\n",
      "Requirement already satisfied: rfc3986<2,>=1.3 in c:\\users\\kacha\\anaconda3\\lib\\site-packages (from httpx==0.13.3->googletrans==4.0.0-rc1->-r requirements.txt (line 4)) (1.5.0)\n",
      "Requirement already satisfied: httpcore==0.9.* in c:\\users\\kacha\\anaconda3\\lib\\site-packages (from httpx==0.13.3->googletrans==4.0.0-rc1->-r requirements.txt (line 4)) (0.9.1)\n",
      "Requirement already satisfied: h11<0.10,>=0.8 in c:\\users\\kacha\\anaconda3\\lib\\site-packages (from httpcore==0.9.*->httpx==0.13.3->googletrans==4.0.0-rc1->-r requirements.txt (line 4)) (0.9.0)\n",
      "Requirement already satisfied: h2==3.* in c:\\users\\kacha\\anaconda3\\lib\\site-packages (from httpcore==0.9.*->httpx==0.13.3->googletrans==4.0.0-rc1->-r requirements.txt (line 4)) (3.2.0)\n",
      "Requirement already satisfied: hyperframe<6,>=5.2.0 in c:\\users\\kacha\\anaconda3\\lib\\site-packages (from h2==3.*->httpcore==0.9.*->httpx==0.13.3->googletrans==4.0.0-rc1->-r requirements.txt (line 4)) (5.2.0)\n",
      "Requirement already satisfied: hpack<4,>=3.0 in c:\\users\\kacha\\anaconda3\\lib\\site-packages (from h2==3.*->httpcore==0.9.*->httpx==0.13.3->googletrans==4.0.0-rc1->-r requirements.txt (line 4)) (3.0.0)\n",
      "Requirement already satisfied: packaging>=21.3 in c:\\users\\kacha\\anaconda3\\lib\\site-packages (from pytesseract->-r requirements.txt (line 1)) (23.0)\n",
      "Requirement already satisfied: numpy>=1.21.2 in c:\\users\\kacha\\anaconda3\\lib\\site-packages (from opencv-python->-r requirements.txt (line 2)) (1.26.4)\n"
     ]
    }
   ],
   "source": [
    "import tkinter as tk\n",
    "from tkinter import filedialog, messagebox\n",
    "from PIL import ImageTk, Image\n",
    "import os\n",
    "from ocr_translator import extract_text_from_image, translate_english_text"
   ]
  },
  {
   "cell_type": "code",
   "execution_count": 4,
   "id": "ac1c7d00",
   "metadata": {},
   "outputs": [],
   "source": [
    "import pytesseract\n",
    "pytesseract.pytesseract.tesseract_cmd = r\"C:\\\\Program Files\\\\Tesseract-OCR\\\\tesseract.exe\""
   ]
  },
  {
   "cell_type": "code",
   "execution_count": 8,
   "id": "60463220",
   "metadata": {},
   "outputs": [],
   "source": [
    "# Create GUI\n",
    "def open_image():\n",
    "    file_path = filedialog.askopenfilename()\n",
    "    if not file_path:\n",
    "        return\n",
    "\n",
    "    img = Image.open(file_path)\n",
    "    img.thumbnail((300, 300))\n",
    "    img_display = ImageTk.PhotoImage(img)\n",
    "    panel.config(image=img_display)\n",
    "    panel.image = img_display\n",
    "\n",
    "    extracted_text = extract_text_from_image(file_path)\n",
    "    if extracted_text.strip() == \"\":\n",
    "        result_text.set(\"❌ No English text found.\")\n",
    "        translated_text.set(\"\")\n",
    "    else:\n",
    "        result_text.set(\"✅ Extracted Text:\\n\" + extracted_text)\n",
    "        translation = translate_english_text(extracted_text)\n",
    "        translated_text.set(\"🌐 Translated Text:\\n\" + translation)\n",
    "\n",
    "root = tk.Tk()\n",
    "root.title(\"Image to Text Translator\")\n",
    "root.geometry(\"600x600\")\n",
    "\n",
    "tk.Label(root, text=\"Upload an Image with English Text\", font=(\"Arial\", 14)).pack(pady=10)\n",
    "tk.Button(root, text=\"Choose Image\", command=open_image).pack()\n",
    "\n",
    "panel = tk.Label(root)\n",
    "panel.pack()\n",
    "\n",
    "result_text = tk.StringVar()\n",
    "translated_text = tk.StringVar()\n",
    "\n",
    "tk.Label(root, textvariable=result_text, wraplength=500, justify=\"left\", fg=\"blue\").pack(pady=10)\n",
    "tk.Label(root, textvariable=translated_text, wraplength=500, justify=\"left\", fg=\"green\").pack(pady=10)\n",
    "\n",
    "root.mainloop()\n"
   ]
  },
  {
   "cell_type": "code",
   "execution_count": null,
   "id": "526415af",
   "metadata": {},
   "outputs": [],
   "source": []
  }
 ],
 "metadata": {
  "kernelspec": {
   "display_name": "Python 3 (ipykernel)",
   "language": "python",
   "name": "python3"
  },
  "language_info": {
   "codemirror_mode": {
    "name": "ipython",
    "version": 3
   },
   "file_extension": ".py",
   "mimetype": "text/x-python",
   "name": "python",
   "nbconvert_exporter": "python",
   "pygments_lexer": "ipython3",
   "version": "3.11.4"
  }
 },
 "nbformat": 4,
 "nbformat_minor": 5
}
